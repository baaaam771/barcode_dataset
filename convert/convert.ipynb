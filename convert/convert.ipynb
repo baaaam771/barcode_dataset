{
 "cells": [
  {
   "cell_type": "code",
   "execution_count": 1,
   "metadata": {},
   "outputs": [
    {
     "name": "stdout",
     "output_type": "stream",
     "text": [
      "Collecting opencv-python\n",
      "  Using cached opencv_python-4.10.0.84-cp37-abi3-win_amd64.whl.metadata (20 kB)\n",
      "Requirement already satisfied: numpy>=1.17.0 in c:\\users\\mrlab\\miniconda3\\envs\\barcode_test\\lib\\site-packages (from opencv-python) (1.19.3)\n",
      "Using cached opencv_python-4.10.0.84-cp37-abi3-win_amd64.whl (38.8 MB)\n",
      "Installing collected packages: opencv-python\n",
      "Successfully installed opencv-python-4.10.0.84\n",
      "Note: you may need to restart the kernel to use updated packages.\n"
     ]
    }
   ],
   "source": [
    "pip install opencv-python"
   ]
  },
  {
   "cell_type": "code",
   "execution_count": 1,
   "metadata": {},
   "outputs": [],
   "source": [
    "import cv2\n",
    "import os\n",
    "\n",
    "# PASCAL VOC 형식에서 YOLO 형식으로 변환하는 함수\n",
    "def voc_to_yolo(x_min, y_min, x_max, y_max, img_width, img_height):\n",
    "    # 중심 좌표 계산\n",
    "    x_center = (x_min + x_max) / 2.0\n",
    "    y_center = (y_min + y_max) / 2.0\n",
    "    \n",
    "    # 너비 및 높이 계산\n",
    "    width = x_max - x_min\n",
    "    height = y_max - y_min\n",
    "    \n",
    "    # 이미지 크기에 대한 상대값으로 변환\n",
    "    x_center /= img_width\n",
    "    y_center /= img_height\n",
    "    width /= img_width\n",
    "    height /= img_height\n",
    "    \n",
    "    return x_center, y_center, width, height\n",
    "\n",
    "# Pascal VOC 형식을 변환하는 함수\n",
    "def convert_voc_to_yolo(txt_file_path, image_dir, labels_dir):\n",
    "    # labels 폴더가 존재하지 않으면 생성\n",
    "    if not os.path.exists(labels_dir):\n",
    "        os.makedirs(labels_dir)\n",
    "\n",
    "    with open(txt_file_path, \"r\") as file:\n",
    "        lines = file.readlines()\n",
    "\n",
    "    for line in lines:\n",
    "        # 각 줄에서 정보 추출\n",
    "        image_name, x_min, y_min, x_max, y_max, class_id = line.strip().split()\n",
    "        \n",
    "        # 이미지 파일 경로 생성\n",
    "        img_path = os.path.join(image_dir, image_name)\n",
    "        \n",
    "        # 이미지 크기 읽기 (OpenCV 사용)\n",
    "        img = cv2.imread(img_path)\n",
    "        if img is None:\n",
    "            print(f\"이미지를 읽을 수 없습니다: {img_path}\")\n",
    "            continue\n",
    "\n",
    "        img_height, img_width, _ = img.shape\n",
    "        \n",
    "        # PASCAL VOC 형식에서 YOLO 형식으로 변환\n",
    "        x_min, y_min, x_max, y_max = map(int, [x_min, y_min, x_max, y_max])\n",
    "        x_center, y_center, width, height = voc_to_yolo(x_min, y_min, x_max, y_max, img_width, img_height)\n",
    "        \n",
    "        # YOLO 형식: class_id x_center y_center width height\n",
    "        # 해당 이미지의 이름을 기준으로 .txt 파일 생성\n",
    "        label_file_path = os.path.join(labels_dir, image_name.replace(\".jpg\", \".txt\"))\n",
    "        with open(label_file_path, \"w\") as label_file:\n",
    "            label_file.write(f\"{class_id} {x_center:.6f} {y_center:.6f} {width:.6f} {height:.6f}\\n\")\n",
    "\n",
    "# 경로 설정 (txt 파일 경로, 이미지 디렉토리 경로, 결과를 저장할 파일 경로)\n",
    "txt_file_path = \"rec.txt\"  # PASCAL VOC 형식이 적힌 txt 파일 경로\n",
    "image_dir = \"rec\"               # 원본 이미지가 있는 디렉토리\n",
    "# output_file_path = \"yolo.txt\"  # YOLO 형식으로 변환된 결과 파일 경로\n",
    "\n",
    "# 경로 설정 (txt 파일 경로, 이미지 디렉토리 경로, labels 폴더 경로)\n",
    "# txt_file_path = \"path/to/your/annotations.txt\"  # PASCAL VOC 형식이 적힌 txt 파일 경로\n",
    "# image_dir = \"path/to/your/images\"               # 원본 이미지가 있는 디렉토리\n",
    "labels_dir = \"labels\"              # YOLO 형식으로 변환된 파일을 저장할 labels 폴더\n",
    "\n",
    "# 변환 실행\n",
    "convert_voc_to_yolo(txt_file_path, image_dir, labels_dir)\n"
   ]
  },
  {
   "cell_type": "code",
   "execution_count": null,
   "metadata": {},
   "outputs": [],
   "source": []
  }
 ],
 "metadata": {
  "kernelspec": {
   "display_name": "barcode_test",
   "language": "python",
   "name": "python3"
  },
  "language_info": {
   "codemirror_mode": {
    "name": "ipython",
    "version": 3
   },
   "file_extension": ".py",
   "mimetype": "text/x-python",
   "name": "python",
   "nbconvert_exporter": "python",
   "pygments_lexer": "ipython3",
   "version": "3.9.20"
  }
 },
 "nbformat": 4,
 "nbformat_minor": 2
}
